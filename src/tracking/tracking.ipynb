{
 "cells": [
  {
   "cell_type": "code",
   "execution_count": 3,
   "metadata": {},
   "outputs": [],
   "source": [
    "import cv2\n",
    "import numpy as np"
   ]
  },
  {
   "cell_type": "code",
   "execution_count": 75,
   "metadata": {},
   "outputs": [],
   "source": [
    "stop_sign_img = cv2.imread('../../data/stop_sign/two_stop_signs.jpg')\n",
    "stop_sign_img = cv2.resize(stop_sign_img, (500, 500))\n",
    "frames = [stop_sign_img]"
   ]
  },
  {
   "cell_type": "code",
   "execution_count": 76,
   "metadata": {},
   "outputs": [
    {
     "data": {
      "text/plain": [
       "(500, 500, 3)"
      ]
     },
     "execution_count": 76,
     "metadata": {},
     "output_type": "execute_result"
    }
   ],
   "source": [
    "stop_sign_reference = cv2.imread('../../data/reference_signs/stop_sign.jpg')\n",
    "stop_sign_reference.shape"
   ]
  },
  {
   "cell_type": "code",
   "execution_count": null,
   "metadata": {},
   "outputs": [
    {
     "name": "stdout",
     "output_type": "stream",
     "text": [
      "[[250.]\n",
      " [250.]\n",
      " [  0.]\n",
      " [  0.]]\n",
      "Initial position selected: 0, 0\n"
     ]
    }
   ],
   "source": [
    "#TODO: Use the method to read the video file (slow_traffic_small.avi)\n",
    "videopath = \"../data/slow_traffic_small.mp4\"  # Path to the video file\n",
    "# frames, frame_width, frame_height, frame_rate = read_video(videopath)\n",
    "\n",
    "#TODO: Create the Kalman filter object\n",
    "kf = cv2.KalmanFilter(4, 2)\n",
    "#TODO: Initialize the state of the Kalman filter\n",
    "kf.measurementMatrix =  np.array([[1,0,0,0],[0,1,0,0]], np.float32) # Measurement matrix np.array of shape (2, 4) and type np.float32\n",
    "# en la matriz de measuremente indicamos que unicamente estamos midiendo las posiciones x e y\n",
    "dt = 50\n",
    "kf.transitionMatrix = np.array([[1,0,dt,0],[0,1,0,dt],[0,0,1,0],[0,0,0,1]], np.float32) # Transition matrix np.array of shape (4, 4) and type np.float32\n",
    "kf.processNoiseCov = np.array([[1,0,0,0],[0,1,0,0],[0,0,1,0],[0,0,0,1]], np.float32) *0.03 # Process noise covariance np.array of shape (4, 4) and type np.float32\n",
    "\n",
    "measurement = np.array((2, 1), np.float32)\n",
    "prediction = np.zeros((2, 1), np.float32)\n",
    "\n",
    "#TODO: Show the frames to select the initial position of the object\n",
    "x,y,w,h = 0,0,500,500\n",
    "track_window = (x, y, w, h)\n",
    "#TODO: Compute the center of the object\n",
    "cx = x + w // 2\n",
    "cy = y + h // 2\n",
    "#TODO: Initialize the state of the Kalman filter\n",
    "kf.statePost = np.array([[cx], [cy], [0], [0]], np.float32)\n",
    "\n",
    "# Initialize the covariance matrix\n",
    "kf.errorCovPost = np.eye(4, dtype=np.float32)\n",
    "\n",
    "#Predict the position of the object\n",
    "prediction = kf.predict()\n",
    "print(prediction)\n",
    "\n",
    "#TODO: Update the measurement and correct the Kalman filter\n",
    "measurement = np.array([[cx], [cy]], np.float32) #en los none introducimos las coordenadas x e y medidas\n",
    "kf.correct(measurement)\n",
    "\n",
    "#TODO: Crop the object \n",
    "crop = stop_sign_reference[y:y+h, x:x+w].copy() \n",
    "#TODO: Convert the cropped object to HSV\n",
    "hsv_crop = cv2.cvtColor(crop, cv2.COLOR_BGR2HSV)\n",
    "#TODO: Compute the histogram of the cropped object (Reminder: Use only the Hue channel (0-180))\n",
    "mask=cv2.inRange(hsv_crop,(0,60,32), (180,255,255))\n",
    "\n",
    "crop_hist = cv2.calcHist([hsv_crop], [0], mask=mask, histSize=[15], ranges=[0, 180])\n",
    "cv2.normalize(crop_hist, crop_hist, 0, 255, cv2.NORM_MINMAX)\n",
    "\n",
    "print(f'Initial position selected: {x}, {y}')"
   ]
  },
  {
   "cell_type": "code",
   "execution_count": 78,
   "metadata": {},
   "outputs": [],
   "source": [
    "# crop_hist"
   ]
  },
  {
   "cell_type": "code",
   "execution_count": 79,
   "metadata": {},
   "outputs": [],
   "source": [
    "term_crit = (cv2.TERM_CRITERIA_EPS | cv2.TERM_CRITERIA_COUNT, 30, 1)\n",
    "i=0\n",
    "# x, y, w, h = 300, 200, 200, 200 # simply hardcoded the values\n",
    "# track_window = (x, y, w, h)\n",
    "frames = [stop_sign_img] * 100\n",
    "for frame in frames[i:]:\n",
    "    #TODO: Copy the frame \n",
    "    input_frame = frame.copy()\n",
    "    #TODO: Convert the frame to HSV\n",
    "    img_hsv = cv2.cvtColor(input_frame, cv2.COLOR_BGR2HSV)\n",
    "    \n",
    "    # Compute the back projection of the histogram\n",
    "    img_bproject = cv2.calcBackProject([img_hsv], [0], crop_hist, [0, 180], 1)\n",
    "    cv2.imshow('Backprojection', img_bproject)\n",
    "    # cv2.waitKey(0)\n",
    "    \n",
    "    # Apply the mean shift algorithm to the back projection\n",
    "    # print(track_window)\n",
    "    # ret, track_window = cv2.meanShift(img_bproject, track_window, term_crit)\n",
    "    ret, track_window = cv2.CamShift(img_bproject, track_window, term_crit)\n",
    "    x_,y_,w_,h_ = track_window\n",
    "    #TODO: Compute the center of the object\n",
    "    c_x = x_ + w_ // 2\n",
    "    c_y = y_ + h_ // 2\n",
    "    \n",
    "    # Predict the position of the object\n",
    "    prediction = kf.predict()\n",
    "\n",
    "    #TODO: Update the measurement and correct the Kalman filter\n",
    "    measurement = np.array([[c_x], [c_y]], np.float32)\n",
    "    kf.correct(measurement)\n",
    "    \n",
    "    # Draw the predicted position\n",
    "    cv2.circle(input_frame, (int(prediction[0][0]), int(prediction[1][0])), 5, (0, 0, 255), -1)\n",
    "    cv2.circle(input_frame, (int(c_x), int(c_y)), 5, (0, 255, 0), -1)\n",
    "    cv2.rectangle(input_frame, (x_, y_), (x_+w_, y_+h_), (255, 0, 0), 2)\n",
    "    # Show the frame with the predicted position\n",
    "    cv2.imshow('Frame', input_frame)\n",
    "    key = cv2.waitKey(0)\n",
    "    if key == ord('q'):\n",
    "        break\n",
    "\n",
    "cv2.destroyAllWindows()"
   ]
  }
 ],
 "metadata": {
  "kernelspec": {
   "display_name": "vision",
   "language": "python",
   "name": "python3"
  },
  "language_info": {
   "codemirror_mode": {
    "name": "ipython",
    "version": 3
   },
   "file_extension": ".py",
   "mimetype": "text/x-python",
   "name": "python",
   "nbconvert_exporter": "python",
   "pygments_lexer": "ipython3",
   "version": "3.12.7"
  }
 },
 "nbformat": 4,
 "nbformat_minor": 2
}
