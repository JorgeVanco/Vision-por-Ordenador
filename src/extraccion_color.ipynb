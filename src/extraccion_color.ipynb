{
 "cells": [
  {
   "cell_type": "code",
   "execution_count": 4,
   "metadata": {},
   "outputs": [],
   "source": [
    "import os\n",
    "import cv2\n",
    "import imageio\n",
    "import numpy as np\n",
    "from typing import List\n",
    "from utils import non_max_suppression, get_hsv_color_ranges"
   ]
  },
  {
   "cell_type": "code",
   "execution_count": 13,
   "metadata": {},
   "outputs": [],
   "source": [
    "def show_image(img: np.array, img_name: str = \"Image\"):\n",
    "    cv2.imshow(img_name,img)\n",
    "    cv2.waitKey(0)\n",
    "    cv2.destroyAllWindows()"
   ]
  },
  {
   "cell_type": "code",
   "execution_count": 17,
   "metadata": {},
   "outputs": [],
   "source": [
    "# Load a specific image from the reference_signs directory\n",
    "img = cv2.imread(\"../data/reference_signs/stop_sign.jpg\")\n",
    "# cv2.imshow(\"img_name\", img)\n",
    "# cv2.waitKey(0)\n",
    "# cv2.destroyAllWindows()\n",
    "\n",
    "# TODO Get a list with ìmgs in HSV color space\n",
    "hsv_img = cv2.cvtColor(img, cv2.COLOR_BGR2HSV) \n",
    "\n",
    "\n",
    "#get_hsv_color_ranges(img)\n",
    "\n",
    "# TODO Define orange color range\n",
    "light_red = (169, 0, 0)\n",
    "dark_red = (206, 255, 240)\n",
    "\n",
    "# TODO Compute a list that contains a mask (which should segment orange colors) for every image.\n",
    "red_mask = cv2.inRange(hsv_img,light_red,dark_red) \n",
    "\n",
    "# TODO Compute a list that contains the result of multiplying the original image with its orange colors mask.\n",
    "red_segmented = cv2.bitwise_and(img, img, mask=red_mask) \n",
    "\n",
    "# TODO Show an original image\n",
    "show_image(img)\n",
    "\n",
    "# TODO Show a mask\n",
    "show_image(red_mask)\n",
    "\n",
    "# TODO Show a segmented image\n",
    "show_image(red_segmented)"
   ]
  },
  {
   "cell_type": "code",
   "execution_count": 19,
   "metadata": {},
   "outputs": [
    {
     "name": "stdout",
     "output_type": "stream",
     "text": [
      "Porcentaje Rojo: 64.22%\n"
     ]
    }
   ],
   "source": [
    "total_pixeles = img.shape[0] * img.shape[1]\n",
    "porcentaje_red = (cv2.countNonZero(red_mask) / total_pixeles) * 100\n",
    "\n",
    "print(f'Porcentaje Rojo: {porcentaje_red:.2f}%')"
   ]
  },
  {
   "cell_type": "code",
   "execution_count": null,
   "metadata": {},
   "outputs": [],
   "source": []
  }
 ],
 "metadata": {
  "kernelspec": {
   "display_name": "Python 3",
   "language": "python",
   "name": "python3"
  },
  "language_info": {
   "codemirror_mode": {
    "name": "ipython",
    "version": 3
   },
   "file_extension": ".py",
   "mimetype": "text/x-python",
   "name": "python",
   "nbconvert_exporter": "python",
   "pygments_lexer": "ipython3",
   "version": "3.10.11"
  }
 },
 "nbformat": 4,
 "nbformat_minor": 2
}
